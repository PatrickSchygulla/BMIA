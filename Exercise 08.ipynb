{
 "cells": [
  {
   "cell_type": "markdown",
   "metadata": {},
   "source": [
    "# Submission\n",
    "\n",
    "Send the file `cs231nHD/neural_net.py` and the `Exercise 08.ipynb` ipython notebook to [carsten.haubold@iwr.uni-heidelberg.de](mailto:carsten.haubold@iwr.uni-heidelberg.de). Use \"**[BMIA] Exercise 08**\" as subject line. Make sure to mention all names in every solution you hand in as a group (in source code and email to prevent confusion). **The deadline is in two weeks: Tuesday, 28st of June 2016, 2pm, right before the lecture.**\n",
    "\n",
    "## Note\n",
    "\n",
    "We have included the ipython notebook sections of the last exercise in here so that whenever you change your neural_net implementation you can check whether it still works properly. The actual task starts further down at the section **Debug the training**."
   ]
  },
  {
   "cell_type": "markdown",
   "metadata": {},
   "source": [
    "# Done: Implementing a Neural Network\n",
    "\n",
    "In the last exercise we developed a neural network with two fully-connected layers to perform classification, and tested it out on the MNIST dataset.\n",
    "\n",
    "** Credits: ** We have based this exercise on an assignment of the very good course on Neural Networks from the Stanford University [http://cs231n.github.io/](http://cs231n.github.io/), but adjusted it a bit to use a smaller dataset (MNIST instead of CIFAR-10), and to work with Python 3.\n",
    "\n",
    "** How to solve this exercise: ** You will have to work with both, the source file `neural_net.py`, and this ipython notebook. This notebook allows you to verify your implementation of a neural net through predefined test cases. The source file `neural_net.py` contains a skeleton implementation with a lot of comments to show you what you are expected to do. Special blocks of **TODOs** indicate where you are supposed to add the implementation, and what to do there. The methods of the neural net you write in the separate file will be reloaded automatically whenever you save the `neural_net.py` file. The class `TwoLayerNet` is imported from this file as below."
   ]
  },
  {
   "cell_type": "code",
   "execution_count": 18,
   "metadata": {
    "collapsed": false
   },
   "outputs": [
    {
     "name": "stdout",
     "output_type": "stream",
     "text": [
      "The autoreload extension is already loaded. To reload it, use:\n",
      "  %reload_ext autoreload\n"
     ]
    }
   ],
   "source": [
    "# A bit of setup\n",
    "import numpy as np\n",
    "import matplotlib.pyplot as plt\n",
    "\n",
    "from cs231nHD.neural_net_solution import TwoLayerNet\n",
    "\n",
    "%matplotlib inline\n",
    "plt.rcParams['figure.figsize'] = (10.0, 8.0) # set default size of plots\n",
    "plt.rcParams['image.interpolation'] = 'nearest'\n",
    "plt.rcParams['image.cmap'] = 'gray'\n",
    "\n",
    "# for auto-reloading external modules\n",
    "# see http://stackoverflow.com/questions/1907993/autoreload-of-modules-in-ipython\n",
    "%load_ext autoreload\n",
    "%autoreload 2"
   ]
  },
  {
   "cell_type": "markdown",
   "metadata": {},
   "source": [
    "We will use the class `TwoLayerNet` in the file `cs231n/neural_net.py` to represent instances of our network. The network parameters are stored in the instance variable `self.params` where keys are string parameter names and values are numpy arrays. Below, we initialize toy data and a toy model that we will use to develop your implementation.\n",
    "\n",
    "**Hint:** If you need more information on classes and object oriented programming, check out the great tutorial at [http://www.python-course.eu/python3_object_oriented_programming.php](http://www.python-course.eu/python3_object_oriented_programming.php)"
   ]
  },
  {
   "cell_type": "code",
   "execution_count": 19,
   "metadata": {
    "collapsed": false
   },
   "outputs": [],
   "source": [
    "# Create a small net and some toy data to check your implementations.\n",
    "# Note that we set the random seed for repeatable experiments!\n",
    "\n",
    "input_size = 4\n",
    "hidden_size = 10\n",
    "num_classes = 3\n",
    "num_inputs = 5\n",
    "\n",
    "def init_toy_model():\n",
    "    np.random.seed(0)\n",
    "    return TwoLayerNet(input_size, hidden_size, num_classes, std=1e-1)\n",
    "\n",
    "def init_toy_data():\n",
    "    np.random.seed(1)\n",
    "    X = 10 * np.random.randn(num_inputs, input_size)\n",
    "    y = np.array([0, 1, 2, 2, 1])\n",
    "    return X, y\n",
    "\n",
    "net = init_toy_model()\n",
    "X, y = init_toy_data()"
   ]
  },
  {
   "cell_type": "markdown",
   "metadata": {},
   "source": [
    "# Done: Forward pass: compute scores\n",
    "Open the file `cs231n/neural_net.py` and look at the method `TwoLayerNet.loss`. This function takes the data and weights and should compute the class scores, the loss, and the gradients on the parameters.\n",
    "\n",
    "Implement the first part of the forward pass which uses the weights and biases to compute the scores for all inputs. Then run the cell below to see whether you have computed the right thing."
   ]
  },
  {
   "cell_type": "code",
   "execution_count": 20,
   "metadata": {
    "collapsed": false
   },
   "outputs": [
    {
     "name": "stdout",
     "output_type": "stream",
     "text": [
      "Your scores:\n",
      "[[-0.81233741 -1.27654624 -0.70335995]\n",
      " [-0.17129677 -1.18803311 -0.47310444]\n",
      " [-0.51590475 -1.01354314 -0.8504215 ]\n",
      " [-0.15419291 -0.48629638 -0.52901952]\n",
      " [-0.00618733 -0.12435261 -0.15226949]]\n",
      "\n",
      "correct scores:\n",
      "[[-0.81233741 -1.27654624 -0.70335995]\n",
      " [-0.17129677 -1.18803311 -0.47310444]\n",
      " [-0.51590475 -1.01354314 -0.8504215 ]\n",
      " [-0.15419291 -0.48629638 -0.52901952]\n",
      " [-0.00618733 -0.12435261 -0.15226949]]\n",
      "\n",
      "Difference between your scores and correct scores:\n",
      "3.68027209255e-08\n"
     ]
    }
   ],
   "source": [
    "scores = net.loss(X)\n",
    "print('Your scores:')\n",
    "print(scores)\n",
    "print()\n",
    "print('correct scores:')\n",
    "correct_scores = np.asarray([\n",
    "  [-0.81233741, -1.27654624, -0.70335995],\n",
    "  [-0.17129677, -1.18803311, -0.47310444],\n",
    "  [-0.51590475, -1.01354314, -0.8504215 ],\n",
    "  [-0.15419291, -0.48629638, -0.52901952],\n",
    "  [-0.00618733, -0.12435261, -0.15226949]])\n",
    "print(correct_scores)\n",
    "print()\n",
    "\n",
    "# The difference should be very small. We get < 1e-7\n",
    "print('Difference between your scores and correct scores:')\n",
    "print(np.sum(np.abs(scores - correct_scores)))"
   ]
  },
  {
   "cell_type": "markdown",
   "metadata": {},
   "source": [
    "# Done: Forward pass: compute loss\n",
    "In the same function, implement the second part that computes the data and regularizaion loss. For the data loss, use the average cross-entropy softmax loss."
   ]
  },
  {
   "cell_type": "code",
   "execution_count": 21,
   "metadata": {
    "collapsed": false
   },
   "outputs": [
    {
     "name": "stdout",
     "output_type": "stream",
     "text": [
      "Difference between your loss 1.3037878913298206 and correct loss 1.30378789133:\n",
      "1.79412040779e-13\n"
     ]
    }
   ],
   "source": [
    "loss, _ = net.loss(X, y, reg=0.1)\n",
    "correct_loss = 1.30378789133\n",
    "\n",
    "# should be very small, we get < 1e-12\n",
    "print('Difference between your loss {} and correct loss {}:'.format(\n",
    "        loss, correct_loss))\n",
    "print(np.sum(np.abs(loss - correct_loss)))"
   ]
  },
  {
   "cell_type": "markdown",
   "metadata": {},
   "source": [
    "# Done: Backward pass\n",
    "Implement the rest of the function. This will compute the gradient of the loss with respect to the variables `W1`, `b1`, `W2`, and `b2`. Now that you (hopefully!) have a correctly implemented forward pass, you can debug your backward pass using a numeric gradient check:"
   ]
  },
  {
   "cell_type": "code",
   "execution_count": 22,
   "metadata": {
    "collapsed": false
   },
   "outputs": [
    {
     "name": "stdout",
     "output_type": "stream",
     "text": [
      "W2 max relative error: 3.440707836450643e-09\n",
      "W1 max relative error: 3.6698575691961915e-09\n",
      "b2 max relative error: 3.865038766736349e-11\n",
      "b1 max relative error: 1.1254228352836888e-09\n"
     ]
    }
   ],
   "source": [
    "from cs231nHD.gradient_check import eval_numerical_gradient\n",
    "\n",
    "def rel_error(x, y):\n",
    "    \"\"\" returns relative error \"\"\"\n",
    "    return np.max(np.abs(x - y) / (np.maximum(1e-8, np.abs(x) + np.abs(y))))\n",
    "\n",
    "# Use numeric gradient checking to check your implementation of the backward pass.\n",
    "# If your implementation is correct, the difference between the numeric and\n",
    "# analytic gradients should be less than 1e-8 for each of W1, W2, b1, and b2.\n",
    "\n",
    "loss, grads = net.loss(X, y, reg=0.1)\n",
    "\n",
    "# these should all be less than 1e-8 or so\n",
    "for param_name in grads:\n",
    "    f = lambda W: net.loss(X, y, reg=0.1)[0]\n",
    "    param_grad_num = eval_numerical_gradient(f, net.params[param_name], verbose=False)\n",
    "    print('{} max relative error: {}'.format(param_name, rel_error(param_grad_num, grads[param_name])))"
   ]
  },
  {
   "cell_type": "markdown",
   "metadata": {},
   "source": [
    "# Done: Train the network\n",
    "To train the network we will use stochastic gradient descent (SGD). Look at the function `TwoLayerNet.train` and fill in the missing sections to implement the training procedure. You will also have to implement `TwoLayerNet.predict`, as the training process periodically performs prediction to keep track of accuracy over time while the network trains.\n",
    "\n",
    "Once you have implemented the method, run the code below to train a two-layer network on toy data. You should achieve a training loss less than 0.02."
   ]
  },
  {
   "cell_type": "code",
   "execution_count": 23,
   "metadata": {
    "collapsed": true
   },
   "outputs": [],
   "source": [
    "net = init_toy_model()"
   ]
  },
  {
   "cell_type": "code",
   "execution_count": 24,
   "metadata": {
    "collapsed": false
   },
   "outputs": [
    {
     "name": "stdout",
     "output_type": "stream",
     "text": [
      "Final training loss:  0.0156349876119\n"
     ]
    },
    {
     "data": {
      "image/png": "[encoded data removed]",
      "text/plain": [
       "<matplotlib.figure.Figure at 0x10f81d6d8>"
      ]
     },
     "metadata": {},
     "output_type": "display_data"
    }
   ],
   "source": [
    "stats = net.train(X, y, X, y,\n",
    "            learning_rate=1e-1, reg=1e-5,\n",
    "            num_iters=100, verbose=False)\n",
    "\n",
    "print('Final training loss: ', stats['loss_history'][-1])\n",
    "\n",
    "# plot the loss history\n",
    "plt.plot(stats['loss_history'])\n",
    "plt.xlabel('iteration')\n",
    "plt.ylabel('training loss')\n",
    "plt.title('Training Loss history')\n",
    "plt.show()"
   ]
  },
  {
   "cell_type": "markdown",
   "metadata": {},
   "source": [
    "# Done: Load the data\n",
    "Now that you have implemented a two-layer network that passes gradient checks and works on toy data, it's time to load up the MNIST dataset from [http://yann.lecun.com/exdb/mnist/](http://yann.lecun.com/exdb/mnist/) so we can use it to train a classifier on a real dataset. The `load_mnist()` method downloads the data (~11MB) automatically if it is not present yet!\n",
    "\n",
    "Each data point is now a `28 * 28` grayscale image of a digit, reshaped into a vector."
   ]
  },
  {
   "cell_type": "code",
   "execution_count": 26,
   "metadata": {
    "collapsed": false
   },
   "outputs": [
    {
     "name": "stdout",
     "output_type": "stream",
     "text": [
      "Downloading train-images-idx3-ubyte.gz\n",
      "Downloading train-labels-idx1-ubyte.gz\n",
      "Downloading t10k-images-idx3-ubyte.gz\n",
      "Downloading t10k-labels-idx1-ubyte.gz\n",
      "Train data shape:  (50000, 784)\n",
      "Train labels shape:  (50000,)\n",
      "Validation data shape:  (10000, 784)\n",
      "Validation labels shape:  (10000,)\n",
      "Test data shape:  (10000, 784)\n",
      "Test labels shape:  (10000,)\n",
      "Classes:  [0 1 2 3 4 5 6 7 8 9] , number of classes is  10\n"
     ]
    }
   ],
   "source": [
    "from cs231nHD.data_utils import load_mnist\n",
    "\n",
    "# Invoke the above function to get our data.\n",
    "X_train, y_train, X_val, y_val, X_test, y_test = load_mnist()\n",
    "print('Train data shape: ', X_train.shape)\n",
    "print('Train labels shape: ', y_train.shape)\n",
    "print('Validation data shape: ', X_val.shape)\n",
    "print('Validation labels shape: ', y_val.shape)\n",
    "print('Test data shape: ', X_test.shape)\n",
    "print('Test labels shape: ', y_test.shape)\n",
    "print('Classes: ', np.unique(y_test), ', number of classes is ', len(np.unique(y_test)))"
   ]
  },
  {
   "cell_type": "code",
   "execution_count": 27,
   "metadata": {
    "collapsed": false
   },
   "outputs": [
    {
     "name": "stdout",
     "output_type": "stream",
     "text": [
      "Image Class:  7\n"
     ]
    },
    {
     "data": {
      "image/png": "[encoded data removed]",
      "text/plain": [
       "<matplotlib.figure.Figure at 0x10f4e6588>"
      ]
     },
     "metadata": {},
     "output_type": "display_data"
    }
   ],
   "source": [
    "# show one of the images\n",
    "plt.imshow(np.reshape(X_train[42,:], [28,28]))\n",
    "print(\"Image Class: \", y_train[42])"
   ]
  },
  {
   "cell_type": "markdown",
   "metadata": {},
   "source": [
    "# Done: Train a network\n",
    "To train our network we will use SGD with momentum. In addition, we will adjust the learning rate with an exponential learning rate schedule as optimization proceeds; after each epoch, we will reduce the learning rate by multiplying it by a decay rate."
   ]
  },
  {
   "cell_type": "code",
   "execution_count": 55,
   "metadata": {
    "collapsed": false
   },
   "outputs": [
    {
     "name": "stdout",
     "output_type": "stream",
     "text": [
      "iteration 0 / 1000: loss 2.302585147799325\n",
      "iteration 100 / 1000: loss 2.2948700728089677\n",
      "iteration 200 / 1000: loss 1.4446209176966205\n",
      "iteration 300 / 1000: loss 1.327290916456862\n",
      "iteration 400 / 1000: loss 1.2467446561288114\n",
      "iteration 500 / 1000: loss 1.273128655351318\n",
      "iteration 600 / 1000: loss 1.29972273840107\n",
      "iteration 700 / 1000: loss 1.2490711739895126\n",
      "iteration 800 / 1000: loss 1.2415701147973195\n",
      "iteration 900 / 1000: loss 1.2842584674322186\n",
      "Training took  25.573846999999972  seconds\n",
      "Validation accuracy:  0.8802\n"
     ]
    }
   ],
   "source": [
    "import time\n",
    "\n",
    "input_size = 28 * 28 * 1\n",
    "num_classes = 10\n",
    "hidden_size = 20\n",
    "net = TwoLayerNet(input_size, hidden_size, num_classes, std=1e-5)\n",
    "\n",
    "start_time = time.clock()\n",
    "\n",
    "# Train the network\n",
    "stats = net.train(X_train, y_train, X_val, y_val,\n",
    "            num_iters=1000, batch_size=400,\n",
    "            learning_rate=0.2, learning_rate_decay=1,\n",
    "            reg=0.07, verbose=True)\n",
    "\n",
    "end_time = time.clock()\n",
    "print(\"Training took \", end_time - start_time, \" seconds\")\n",
    "\n",
    "# Predict on the validation set\n",
    "val_acc = (net.predict(X_val) == y_val).mean()\n",
    "print('Validation accuracy: ', val_acc)\n",
    "\n"
   ]
  },
  {
   "cell_type": "code",
   "execution_count": 69,
   "metadata": {
    "collapsed": false
   },
   "outputs": [
    {
     "name": "stdout",
     "output_type": "stream",
     "text": [
      "Accuracy for layer size 30, learning rate 0.1, decay rate 0.8 and reg 0.07: 0.8507\n",
      "Accuracy for layer size 30, learning rate 0.1, decay rate 0.8 and reg 0.08: 0.8457\n",
      "Accuracy for layer size 30, learning rate 0.1, decay rate 0.8 and reg 0.09: 0.8395\n",
      "Accuracy for layer size 30, learning rate 0.12000000000000001, decay rate 0.8 and reg 0.07: 0.8601\n",
      "Accuracy for layer size 30, learning rate 0.12000000000000001, decay rate 0.8 and reg 0.08: 0.859\n",
      "Accuracy for layer size 30, learning rate 0.12000000000000001, decay rate 0.8 and reg 0.09: 0.8486\n",
      "Accuracy for layer size 30, learning rate 0.14, decay rate 0.8 and reg 0.07: 0.8682\n",
      "Accuracy for layer size 30, learning rate 0.14, decay rate 0.8 and reg 0.08: 0.857\n",
      "Accuracy for layer size 30, learning rate 0.14, decay rate 0.8 and reg 0.09: 0.8559\n",
      "Accuracy for layer size 30, learning rate 0.16000000000000003, decay rate 0.8 and reg 0.07: 0.8709\n",
      "Accuracy for layer size 30, learning rate 0.16000000000000003, decay rate 0.8 and reg 0.08: 0.8683\n",
      "Accuracy for layer size 30, learning rate 0.16000000000000003, decay rate 0.8 and reg 0.09: 0.8613\n",
      "Accuracy for layer size 30, learning rate 0.18000000000000002, decay rate 0.8 and reg 0.07: 0.8681\n",
      "Accuracy for layer size 30, learning rate 0.18000000000000002, decay rate 0.8 and reg 0.08: 0.8676\n",
      "Accuracy for layer size 30, learning rate 0.18000000000000002, decay rate 0.8 and reg 0.09: 0.8542\n",
      "Accuracy for layer size 30, learning rate 0.2, decay rate 0.8 and reg 0.07: 0.8754\n",
      "Accuracy for layer size 30, learning rate 0.2, decay rate 0.8 and reg 0.08: 0.8694\n",
      "Accuracy for layer size 30, learning rate 0.2, decay rate 0.8 and reg 0.09: 0.8652\n",
      "Accuracy for layer size 30, learning rate 0.22000000000000003, decay rate 0.8 and reg 0.07: 0.8768\n",
      "Accuracy for layer size 30, learning rate 0.22000000000000003, decay rate 0.8 and reg 0.08: 0.8701\n",
      "Accuracy for layer size 30, learning rate 0.22000000000000003, decay rate 0.8 and reg 0.09: 0.8627\n",
      "Accuracy for layer size 30, learning rate 0.24000000000000002, decay rate 0.8 and reg 0.07: 0.8745\n",
      "Accuracy for layer size 30, learning rate 0.24000000000000002, decay rate 0.8 and reg 0.08: 0.8639\n",
      "Accuracy for layer size 30, learning rate 0.24000000000000002, decay rate 0.8 and reg 0.09: 0.8662\n",
      "Accuracy for layer size 30, learning rate 0.26, decay rate 0.8 and reg 0.07: 0.8816\n",
      "Accuracy for layer size 30, learning rate 0.26, decay rate 0.8 and reg 0.08: 0.8615\n",
      "Accuracy for layer size 30, learning rate 0.26, decay rate 0.8 and reg 0.09: 0.8681\n",
      "Accuracy for layer size 30, learning rate 0.28, decay rate 0.8 and reg 0.07: 0.8786\n",
      "Accuracy for layer size 30, learning rate 0.28, decay rate 0.8 and reg 0.08: 0.8681\n",
      "Accuracy for layer size 30, learning rate 0.28, decay rate 0.8 and reg 0.09: 0.8561\n",
      "Accuracy for layer size 30, learning rate 0.30000000000000004, decay rate 0.8 and reg 0.07: 0.8739\n",
      "Accuracy for layer size 30, learning rate 0.30000000000000004, decay rate 0.8 and reg 0.08: 0.8734\n",
      "Accuracy for layer size 30, learning rate 0.30000000000000004, decay rate 0.8 and reg 0.09: 0.865\n",
      "Accuracy for layer size 30, learning rate 0.32000000000000006, decay rate 0.8 and reg 0.07: 0.876\n",
      "Accuracy for layer size 30, learning rate 0.32000000000000006, decay rate 0.8 and reg 0.08: 0.8653\n",
      "Accuracy for layer size 30, learning rate 0.32000000000000006, decay rate 0.8 and reg 0.09: 0.8623\n",
      "Accuracy for layer size 30, learning rate 0.3400000000000001, decay rate 0.8 and reg 0.07: 0.8801\n",
      "Accuracy for layer size 30, learning rate 0.3400000000000001, decay rate 0.8 and reg 0.08: 0.8721\n",
      "Accuracy for layer size 30, learning rate 0.3400000000000001, decay rate 0.8 and reg 0.09: 0.8686\n",
      "Accuracy for layer size 30, learning rate 0.3600000000000001, decay rate 0.8 and reg 0.07: 0.8735\n",
      "Accuracy for layer size 30, learning rate 0.3600000000000001, decay rate 0.8 and reg 0.08: 0.8665\n",
      "Accuracy for layer size 30, learning rate 0.3600000000000001, decay rate 0.8 and reg 0.09: 0.8689\n",
      "Accuracy for layer size 30, learning rate 0.38, decay rate 0.8 and reg 0.07: 0.8782\n",
      "Accuracy for layer size 30, learning rate 0.38, decay rate 0.8 and reg 0.08: 0.8663\n",
      "Accuracy for layer size 30, learning rate 0.38, decay rate 0.8 and reg 0.09: 0.8608\n",
      "Accuracy for layer size 30, learning rate 0.4, decay rate 0.8 and reg 0.07: 0.8798\n",
      "Accuracy for layer size 30, learning rate 0.4, decay rate 0.8 and reg 0.08: 0.8647\n",
      "Accuracy for layer size 30, learning rate 0.4, decay rate 0.8 and reg 0.09: 0.8513\n",
      "Accuracy for layer size 32, learning rate 0.1, decay rate 0.8 and reg 0.07: 0.8509\n",
      "Accuracy for layer size 32, learning rate 0.1, decay rate 0.8 and reg 0.08: 0.8366\n",
      "Accuracy for layer size 32, learning rate 0.1, decay rate 0.8 and reg 0.09: 0.8392\n",
      "Accuracy for layer size 32, learning rate 0.12000000000000001, decay rate 0.8 and reg 0.07: 0.8603\n",
      "Accuracy for layer size 32, learning rate 0.12000000000000001, decay rate 0.8 and reg 0.08: 0.8595\n",
      "Accuracy for layer size 32, learning rate 0.12000000000000001, decay rate 0.8 and reg 0.09: 0.8365\n",
      "Accuracy for layer size 32, learning rate 0.14, decay rate 0.8 and reg 0.07: 0.8703\n",
      "Accuracy for layer size 32, learning rate 0.14, decay rate 0.8 and reg 0.08: 0.8609\n",
      "Accuracy for layer size 32, learning rate 0.14, decay rate 0.8 and reg 0.09: 0.8606\n",
      "Accuracy for layer size 32, learning rate 0.16000000000000003, decay rate 0.8 and reg 0.07: 0.8757\n",
      "Accuracy for layer size 32, learning rate 0.16000000000000003, decay rate 0.8 and reg 0.08: 0.8678\n",
      "Accuracy for layer size 32, learning rate 0.16000000000000003, decay rate 0.8 and reg 0.09: 0.8583\n",
      "Accuracy for layer size 32, learning rate 0.18000000000000002, decay rate 0.8 and reg 0.07: 0.8716\n",
      "Accuracy for layer size 32, learning rate 0.18000000000000002, decay rate 0.8 and reg 0.08: 0.8659\n",
      "Accuracy for layer size 32, learning rate 0.18000000000000002, decay rate 0.8 and reg 0.09: 0.8574\n",
      "Accuracy for layer size 32, learning rate 0.2, decay rate 0.8 and reg 0.07: 0.8751\n",
      "Accuracy for layer size 32, learning rate 0.2, decay rate 0.8 and reg 0.08: 0.8698\n",
      "Accuracy for layer size 32, learning rate 0.2, decay rate 0.8 and reg 0.09: 0.8603\n",
      "Accuracy for layer size 32, learning rate 0.22000000000000003, decay rate 0.8 and reg 0.07: 0.8791\n",
      "Accuracy for layer size 32, learning rate 0.22000000000000003, decay rate 0.8 and reg 0.08: 0.8593\n",
      "Accuracy for layer size 32, learning rate 0.22000000000000003, decay rate 0.8 and reg 0.09: 0.8631\n",
      "Accuracy for layer size 32, learning rate 0.24000000000000002, decay rate 0.8 and reg 0.07: 0.8755\n",
      "Accuracy for layer size 32, learning rate 0.24000000000000002, decay rate 0.8 and reg 0.08: 0.8685\n",
      "Accuracy for layer size 32, learning rate 0.24000000000000002, decay rate 0.8 and reg 0.09: 0.8587\n",
      "Accuracy for layer size 32, learning rate 0.26, decay rate 0.8 and reg 0.07: 0.8784\n",
      "Accuracy for layer size 32, learning rate 0.26, decay rate 0.8 and reg 0.08: 0.8717\n",
      "Accuracy for layer size 32, learning rate 0.26, decay rate 0.8 and reg 0.09: 0.8613\n",
      "Accuracy for layer size 32, learning rate 0.28, decay rate 0.8 and reg 0.07: 0.8815\n",
      "Accuracy for layer size 32, learning rate 0.28, decay rate 0.8 and reg 0.08: 0.8728\n",
      "Accuracy for layer size 32, learning rate 0.28, decay rate 0.8 and reg 0.09: 0.8693\n",
      "Accuracy for layer size 32, learning rate 0.30000000000000004, decay rate 0.8 and reg 0.07: 0.8751\n",
      "Accuracy for layer size 32, learning rate 0.30000000000000004, decay rate 0.8 and reg 0.08: 0.8596\n",
      "Accuracy for layer size 32, learning rate 0.30000000000000004, decay rate 0.8 and reg 0.09: 0.8667\n",
      "Accuracy for layer size 32, learning rate 0.32000000000000006, decay rate 0.8 and reg 0.07: 0.8781\n",
      "Accuracy for layer size 32, learning rate 0.32000000000000006, decay rate 0.8 and reg 0.08: 0.8695\n",
      "Accuracy for layer size 32, learning rate 0.32000000000000006, decay rate 0.8 and reg 0.09: 0.8646\n",
      "Accuracy for layer size 32, learning rate 0.3400000000000001, decay rate 0.8 and reg 0.07: 0.8809\n",
      "Accuracy for layer size 32, learning rate 0.3400000000000001, decay rate 0.8 and reg 0.08: 0.8729\n",
      "Accuracy for layer size 32, learning rate 0.3400000000000001, decay rate 0.8 and reg 0.09: 0.8697\n",
      "Accuracy for layer size 32, learning rate 0.3600000000000001, decay rate 0.8 and reg 0.07: 0.8812\n",
      "Accuracy for layer size 32, learning rate 0.3600000000000001, decay rate 0.8 and reg 0.08: 0.8656\n",
      "Accuracy for layer size 32, learning rate 0.3600000000000001, decay rate 0.8 and reg 0.09: 0.8596\n",
      "Accuracy for layer size 32, learning rate 0.38, decay rate 0.8 and reg 0.07: 0.8772\n",
      "Accuracy for layer size 32, learning rate 0.38, decay rate 0.8 and reg 0.08: 0.8637\n",
      "Accuracy for layer size 32, learning rate 0.38, decay rate 0.8 and reg 0.09: 0.8639\n",
      "Accuracy for layer size 32, learning rate 0.4, decay rate 0.8 and reg 0.07: 0.8742\n",
      "Accuracy for layer size 32, learning rate 0.4, decay rate 0.8 and reg 0.08: 0.8702\n",
      "Accuracy for layer size 32, learning rate 0.4, decay rate 0.8 and reg 0.09: 0.8571\n",
      "Accuracy for layer size 34, learning rate 0.1, decay rate 0.8 and reg 0.07: 0.8564\n",
      "Accuracy for layer size 34, learning rate 0.1, decay rate 0.8 and reg 0.08: 0.8373\n",
      "Accuracy for layer size 34, learning rate 0.1, decay rate 0.8 and reg 0.09: 0.8311\n",
      "Accuracy for layer size 34, learning rate 0.12000000000000001, decay rate 0.8 and reg 0.07: 0.8533\n",
      "Accuracy for layer size 34, learning rate 0.12000000000000001, decay rate 0.8 and reg 0.08: 0.8555\n",
      "Accuracy for layer size 34, learning rate 0.12000000000000001, decay rate 0.8 and reg 0.09: 0.8524\n",
      "Accuracy for layer size 34, learning rate 0.14, decay rate 0.8 and reg 0.07: 0.8712\n",
      "Accuracy for layer size 34, learning rate 0.14, decay rate 0.8 and reg 0.08: 0.8637\n",
      "Accuracy for layer size 34, learning rate 0.14, decay rate 0.8 and reg 0.09: 0.8619\n",
      "Accuracy for layer size 34, learning rate 0.16000000000000003, decay rate 0.8 and reg 0.07: 0.8745\n",
      "Accuracy for layer size 34, learning rate 0.16000000000000003, decay rate 0.8 and reg 0.08: 0.8685\n",
      "Accuracy for layer size 34, learning rate 0.16000000000000003, decay rate 0.8 and reg 0.09: 0.8508\n",
      "Accuracy for layer size 34, learning rate 0.18000000000000002, decay rate 0.8 and reg 0.07: 0.879\n",
      "Accuracy for layer size 34, learning rate 0.18000000000000002, decay rate 0.8 and reg 0.08: 0.8707\n",
      "Accuracy for layer size 34, learning rate 0.18000000000000002, decay rate 0.8 and reg 0.09: 0.8669\n",
      "Accuracy for layer size 34, learning rate 0.2, decay rate 0.8 and reg 0.07: 0.8821\n",
      "Accuracy for layer size 34, learning rate 0.2, decay rate 0.8 and reg 0.08: 0.8713\n",
      "Accuracy for layer size 34, learning rate 0.2, decay rate 0.8 and reg 0.09: 0.8575\n",
      "Accuracy for layer size 34, learning rate 0.22000000000000003, decay rate 0.8 and reg 0.07: 0.8778\n",
      "Accuracy for layer size 34, learning rate 0.22000000000000003, decay rate 0.8 and reg 0.08: 0.8669\n",
      "Accuracy for layer size 34, learning rate 0.22000000000000003, decay rate 0.8 and reg 0.09: 0.8633\n",
      "Accuracy for layer size 34, learning rate 0.24000000000000002, decay rate 0.8 and reg 0.07: 0.872\n",
      "Accuracy for layer size 34, learning rate 0.24000000000000002, decay rate 0.8 and reg 0.08: 0.8699\n",
      "Accuracy for layer size 34, learning rate 0.24000000000000002, decay rate 0.8 and reg 0.09: 0.8646\n",
      "Accuracy for layer size 34, learning rate 0.26, decay rate 0.8 and reg 0.07: 0.8721\n",
      "Accuracy for layer size 34, learning rate 0.26, decay rate 0.8 and reg 0.08: 0.8685\n",
      "Accuracy for layer size 34, learning rate 0.26, decay rate 0.8 and reg 0.09: 0.858\n",
      "Accuracy for layer size 34, learning rate 0.28, decay rate 0.8 and reg 0.07: 0.8781\n",
      "Accuracy for layer size 34, learning rate 0.28, decay rate 0.8 and reg 0.08: 0.8719\n",
      "Accuracy for layer size 34, learning rate 0.28, decay rate 0.8 and reg 0.09: 0.8622\n",
      "Accuracy for layer size 34, learning rate 0.30000000000000004, decay rate 0.8 and reg 0.07: 0.8744\n",
      "Accuracy for layer size 34, learning rate 0.30000000000000004, decay rate 0.8 and reg 0.08: 0.8659\n",
      "Accuracy for layer size 34, learning rate 0.30000000000000004, decay rate 0.8 and reg 0.09: 0.8617\n",
      "Accuracy for layer size 34, learning rate 0.32000000000000006, decay rate 0.8 and reg 0.07: 0.8801\n",
      "Accuracy for layer size 34, learning rate 0.32000000000000006, decay rate 0.8 and reg 0.08: 0.8699\n",
      "Accuracy for layer size 34, learning rate 0.32000000000000006, decay rate 0.8 and reg 0.09: 0.8707\n",
      "Accuracy for layer size 34, learning rate 0.3400000000000001, decay rate 0.8 and reg 0.07: 0.8797\n",
      "Accuracy for layer size 34, learning rate 0.3400000000000001, decay rate 0.8 and reg 0.08: 0.8739\n",
      "Accuracy for layer size 34, learning rate 0.3400000000000001, decay rate 0.8 and reg 0.09: 0.8577\n",
      "Accuracy for layer size 34, learning rate 0.3600000000000001, decay rate 0.8 and reg 0.07: 0.8661\n",
      "Accuracy for layer size 34, learning rate 0.3600000000000001, decay rate 0.8 and reg 0.08: 0.8717\n",
      "Accuracy for layer size 34, learning rate 0.3600000000000001, decay rate 0.8 and reg 0.09: 0.8653\n",
      "Accuracy for layer size 34, learning rate 0.38, decay rate 0.8 and reg 0.07: 0.8772\n",
      "Accuracy for layer size 34, learning rate 0.38, decay rate 0.8 and reg 0.08: 0.8698\n",
      "Accuracy for layer size 34, learning rate 0.38, decay rate 0.8 and reg 0.09: 0.8558\n",
      "Accuracy for layer size 34, learning rate 0.4, decay rate 0.8 and reg 0.07: 0.8745\n",
      "Accuracy for layer size 34, learning rate 0.4, decay rate 0.8 and reg 0.08: 0.871\n",
      "Accuracy for layer size 34, learning rate 0.4, decay rate 0.8 and reg 0.09: 0.8592\n",
      "Accuracy for layer size 36, learning rate 0.1, decay rate 0.8 and reg 0.07: 0.8489\n",
      "Accuracy for layer size 36, learning rate 0.1, decay rate 0.8 and reg 0.08: 0.8456\n",
      "Accuracy for layer size 36, learning rate 0.1, decay rate 0.8 and reg 0.09: 0.8404\n",
      "Accuracy for layer size 36, learning rate 0.12000000000000001, decay rate 0.8 and reg 0.07: 0.8675\n",
      "Accuracy for layer size 36, learning rate 0.12000000000000001, decay rate 0.8 and reg 0.08: 0.8551\n",
      "Accuracy for layer size 36, learning rate 0.12000000000000001, decay rate 0.8 and reg 0.09: 0.844\n",
      "Accuracy for layer size 36, learning rate 0.14, decay rate 0.8 and reg 0.07: 0.8687\n",
      "Accuracy for layer size 36, learning rate 0.14, decay rate 0.8 and reg 0.08: 0.8607\n",
      "Accuracy for layer size 36, learning rate 0.14, decay rate 0.8 and reg 0.09: 0.8567\n",
      "Accuracy for layer size 36, learning rate 0.16000000000000003, decay rate 0.8 and reg 0.07: 0.8733\n",
      "Accuracy for layer size 36, learning rate 0.16000000000000003, decay rate 0.8 and reg 0.08: 0.8652\n",
      "Accuracy for layer size 36, learning rate 0.16000000000000003, decay rate 0.8 and reg 0.09: 0.8552\n",
      "Accuracy for layer size 36, learning rate 0.18000000000000002, decay rate 0.8 and reg 0.07: 0.8748\n",
      "Accuracy for layer size 36, learning rate 0.18000000000000002, decay rate 0.8 and reg 0.08: 0.8705\n",
      "Accuracy for layer size 36, learning rate 0.18000000000000002, decay rate 0.8 and reg 0.09: 0.8523\n",
      "Accuracy for layer size 36, learning rate 0.2, decay rate 0.8 and reg 0.07: 0.8743\n",
      "Accuracy for layer size 36, learning rate 0.2, decay rate 0.8 and reg 0.08: 0.8708\n",
      "Accuracy for layer size 36, learning rate 0.2, decay rate 0.8 and reg 0.09: 0.8587\n",
      "Accuracy for layer size 36, learning rate 0.22000000000000003, decay rate 0.8 and reg 0.07: 0.8756\n",
      "Accuracy for layer size 36, learning rate 0.22000000000000003, decay rate 0.8 and reg 0.08: 0.8712\n",
      "Accuracy for layer size 36, learning rate 0.22000000000000003, decay rate 0.8 and reg 0.09: 0.8629\n",
      "Accuracy for layer size 36, learning rate 0.24000000000000002, decay rate 0.8 and reg 0.07: 0.8781\n",
      "Accuracy for layer size 36, learning rate 0.24000000000000002, decay rate 0.8 and reg 0.08: 0.872\n",
      "Accuracy for layer size 36, learning rate 0.24000000000000002, decay rate 0.8 and reg 0.09: 0.8641\n",
      "Accuracy for layer size 36, learning rate 0.26, decay rate 0.8 and reg 0.07: 0.8789\n",
      "Accuracy for layer size 36, learning rate 0.26, decay rate 0.8 and reg 0.08: 0.8719\n",
      "Accuracy for layer size 36, learning rate 0.26, decay rate 0.8 and reg 0.09: 0.8682\n",
      "Accuracy for layer size 36, learning rate 0.28, decay rate 0.8 and reg 0.07: 0.8817\n",
      "Accuracy for layer size 36, learning rate 0.28, decay rate 0.8 and reg 0.08: 0.873\n",
      "Accuracy for layer size 36, learning rate 0.28, decay rate 0.8 and reg 0.09: 0.8581\n",
      "Accuracy for layer size 36, learning rate 0.30000000000000004, decay rate 0.8 and reg 0.07: 0.8796\n",
      "Accuracy for layer size 36, learning rate 0.30000000000000004, decay rate 0.8 and reg 0.08: 0.868\n",
      "Accuracy for layer size 36, learning rate 0.30000000000000004, decay rate 0.8 and reg 0.09: 0.8652\n",
      "Accuracy for layer size 36, learning rate 0.32000000000000006, decay rate 0.8 and reg 0.07: 0.8815\n",
      "Accuracy for layer size 36, learning rate 0.32000000000000006, decay rate 0.8 and reg 0.08: 0.8687\n",
      "Accuracy for layer size 36, learning rate 0.32000000000000006, decay rate 0.8 and reg 0.09: 0.8569\n",
      "Accuracy for layer size 36, learning rate 0.3400000000000001, decay rate 0.8 and reg 0.07: 0.8775\n",
      "Accuracy for layer size 36, learning rate 0.3400000000000001, decay rate 0.8 and reg 0.08: 0.8707\n",
      "Accuracy for layer size 36, learning rate 0.3400000000000001, decay rate 0.8 and reg 0.09: 0.8595\n",
      "Accuracy for layer size 36, learning rate 0.3600000000000001, decay rate 0.8 and reg 0.07: 0.8774\n",
      "Accuracy for layer size 36, learning rate 0.3600000000000001, decay rate 0.8 and reg 0.08: 0.869\n",
      "Accuracy for layer size 36, learning rate 0.3600000000000001, decay rate 0.8 and reg 0.09: 0.8618\n",
      "Accuracy for layer size 36, learning rate 0.38, decay rate 0.8 and reg 0.07: 0.8786\n",
      "Accuracy for layer size 36, learning rate 0.38, decay rate 0.8 and reg 0.08: 0.8732\n",
      "Accuracy for layer size 36, learning rate 0.38, decay rate 0.8 and reg 0.09: 0.868\n",
      "Accuracy for layer size 36, learning rate 0.4, decay rate 0.8 and reg 0.07: 0.8753\n",
      "Accuracy for layer size 36, learning rate 0.4, decay rate 0.8 and reg 0.08: 0.867\n",
      "Accuracy for layer size 36, learning rate 0.4, decay rate 0.8 and reg 0.09: 0.8646\n",
      "Accuracy for layer size 38, learning rate 0.1, decay rate 0.8 and reg 0.07: 0.8558\n",
      "Accuracy for layer size 38, learning rate 0.1, decay rate 0.8 and reg 0.08: 0.8454\n",
      "Accuracy for layer size 38, learning rate 0.1, decay rate 0.8 and reg 0.09: 0.8414\n",
      "Accuracy for layer size 38, learning rate 0.12000000000000001, decay rate 0.8 and reg 0.07: 0.8674\n",
      "Accuracy for layer size 38, learning rate 0.12000000000000001, decay rate 0.8 and reg 0.08: 0.8517\n",
      "Accuracy for layer size 38, learning rate 0.12000000000000001, decay rate 0.8 and reg 0.09: 0.8486\n",
      "Accuracy for layer size 38, learning rate 0.14, decay rate 0.8 and reg 0.07: 0.8693\n",
      "Accuracy for layer size 38, learning rate 0.14, decay rate 0.8 and reg 0.08: 0.86\n",
      "Accuracy for layer size 38, learning rate 0.14, decay rate 0.8 and reg 0.09: 0.8563\n",
      "Accuracy for layer size 38, learning rate 0.16000000000000003, decay rate 0.8 and reg 0.07: 0.8739\n",
      "Accuracy for layer size 38, learning rate 0.16000000000000003, decay rate 0.8 and reg 0.08: 0.867\n",
      "Accuracy for layer size 38, learning rate 0.16000000000000003, decay rate 0.8 and reg 0.09: 0.8599\n",
      "Accuracy for layer size 38, learning rate 0.18000000000000002, decay rate 0.8 and reg 0.07: 0.8731\n",
      "Accuracy for layer size 38, learning rate 0.18000000000000002, decay rate 0.8 and reg 0.08: 0.8627\n"
     ]
    },
    {
     "ename": "KeyboardInterrupt",
     "evalue": "",
     "output_type": "error",
     "traceback": [
      "\u001b[0;31m---------------------------------------------------------------------------\u001b[0m",
      "\u001b[0;31mKeyboardInterrupt\u001b[0m                         Traceback (most recent call last)",
      "\u001b[0;32m<ipython-input-69-be3ce199ab7e>\u001b[0m in \u001b[0;36m<module>\u001b[0;34m()\u001b[0m\n\u001b[1;32m     20\u001b[0m                             \u001b[0mnum_iters\u001b[0m\u001b[0;34m=\u001b[0m\u001b[0;36m1000\u001b[0m\u001b[0;34m,\u001b[0m \u001b[0mbatch_size\u001b[0m\u001b[0;34m=\u001b[0m\u001b[0;36m200\u001b[0m\u001b[0;34m,\u001b[0m\u001b[0;34m\u001b[0m\u001b[0m\n\u001b[1;32m     21\u001b[0m                             \u001b[0mlearning_rate\u001b[0m\u001b[0;34m=\u001b[0m\u001b[0mmy_learning_rate\u001b[0m\u001b[0;34m,\u001b[0m \u001b[0mlearning_rate_decay\u001b[0m\u001b[0;34m=\u001b[0m\u001b[0mmy_learning_rate_decay\u001b[0m\u001b[0;34m,\u001b[0m\u001b[0;34m\u001b[0m\u001b[0m\n\u001b[0;32m---> 22\u001b[0;31m                             reg=my_reg, verbose=True)\n\u001b[0m\u001b[1;32m     23\u001b[0m \u001b[0;34m\u001b[0m\u001b[0m\n\u001b[1;32m     24\u001b[0m                 \u001b[0;31m# Predict on the validation set\u001b[0m\u001b[0;34m\u001b[0m\u001b[0;34m\u001b[0m\u001b[0m\n",
      "\u001b[0;32m/Users/Habib/Dropbox/Uni Heidelberg/8 SS 2016/Basics of modern image analysis/Sheet8/cs231nHD/neural_net_solution.py\u001b[0m in \u001b[0;36mtrain\u001b[0;34m(self, X, y, X_val, y_val, learning_rate, learning_rate_decay, reg, num_iters, batch_size, verbose)\u001b[0m\n\u001b[1;32m    215\u001b[0m             \u001b[0;31m# them in X_batch and y_batch respectively.                             #\u001b[0m\u001b[0;34m\u001b[0m\u001b[0;34m\u001b[0m\u001b[0m\n\u001b[1;32m    216\u001b[0m             \u001b[0;31m#########################################################################\u001b[0m\u001b[0;34m\u001b[0m\u001b[0;34m\u001b[0m\u001b[0m\n\u001b[0;32m--> 217\u001b[0;31m             \u001b[0mbatch_indices\u001b[0m \u001b[0;34m=\u001b[0m \u001b[0mnp\u001b[0m\u001b[0;34m.\u001b[0m\u001b[0mrandom\u001b[0m\u001b[0;34m.\u001b[0m\u001b[0mchoice\u001b[0m\u001b[0;34m(\u001b[0m\u001b[0mnum_train\u001b[0m\u001b[0;34m,\u001b[0m \u001b[0mmin\u001b[0m\u001b[0;34m(\u001b[0m\u001b[0mbatch_size\u001b[0m\u001b[0;34m,\u001b[0m \u001b[0mnum_train\u001b[0m\u001b[0;34m)\u001b[0m\u001b[0;34m,\u001b[0m \u001b[0mreplace\u001b[0m\u001b[0;34m=\u001b[0m\u001b[0;32mFalse\u001b[0m\u001b[0;34m)\u001b[0m\u001b[0;34m\u001b[0m\u001b[0m\n\u001b[0m\u001b[1;32m    218\u001b[0m             \u001b[0mX_batch\u001b[0m \u001b[0;34m=\u001b[0m \u001b[0mX\u001b[0m\u001b[0;34m[\u001b[0m\u001b[0mbatch_indices\u001b[0m\u001b[0;34m]\u001b[0m\u001b[0;34m\u001b[0m\u001b[0m\n\u001b[1;32m    219\u001b[0m             \u001b[0my_batch\u001b[0m \u001b[0;34m=\u001b[0m \u001b[0my\u001b[0m\u001b[0;34m[\u001b[0m\u001b[0mbatch_indices\u001b[0m\u001b[0;34m]\u001b[0m\u001b[0;34m\u001b[0m\u001b[0m\n",
      "\u001b[0;31mKeyboardInterrupt\u001b[0m: "
     ]
    }
   ],
   "source": [
    "input_size = 28 * 28 * 1\n",
    "num_classes = 10\n",
    "hidden_size = 10\n",
    "my_learning_rate = 0.2\n",
    "my_learning_rate_decay = 0.85\n",
    "my_reg = 0.08\n",
    "\n",
    "val_acc = 0.0\n",
    "val_acc_max = 0.0\n",
    "best_net = [0]*4\n",
    "\n",
    "for hidden_size in np.arange(30, 100, 2):\n",
    "    for my_learning_rate in np.arange(0.1, 0.4, 0.02):\n",
    "        for my_learning_rate_decay in np.arange(0.80, 1, 0.2):\n",
    "            for my_reg in np.arange(0.07, 0.1, 0.01):\n",
    "                net = TwoLayerNet(input_size, hidden_size, num_classes, std=1e-5)\n",
    "\n",
    "                # Train the network\n",
    "                stats = net.train(X_train, y_train, X_val, y_val,\n",
    "                            num_iters=1000, batch_size=200,\n",
    "                            learning_rate=my_learning_rate, learning_rate_decay=my_learning_rate_decay,\n",
    "                            reg=my_reg, verbose=True)\n",
    "\n",
    "                # Predict on the validation set\n",
    "                val_acc = (net.predict(X_val) == y_val).mean()\n",
    "                print('Accuracy for layer size {}, learning rate {}, decay rate {} and reg {}: {}'\n",
    "                      .format(hidden_size, my_learning_rate, my_learning_rate_decay, my_reg, val_acc))\n",
    "                if val_acc > val_acc_max:\n",
    "                    val_acc_max = val_acc\n",
    "                    best_net = [hidden_size, my_learning_rate, my_learning_rate_decay, my_reg]\n",
    "\n"
   ]
  },
  {
   "cell_type": "code",
   "execution_count": 71,
   "metadata": {
    "collapsed": false
   },
   "outputs": [
    {
     "data": {
      "text/plain": [
       "[34, 0.20000000000000001, 0.80000000000000004, 0.070000000000000007]"
      ]
     },
     "execution_count": 71,
     "metadata": {},
     "output_type": "execute_result"
    }
   ],
   "source": [
    "best_net"
   ]
  },
  {
   "cell_type": "markdown",
   "metadata": {},
   "source": [
    "# Debug the training\n",
    "With the default parameters we provided above, we got a validation accuracy of about 0.75 on the validation set. This isn't very good. In **this** exercise we will look at ways to improve performance.\n",
    "\n",
    "One strategy for getting insight into what's wrong is to plot the loss function and the accuracies on the training and validation sets during optimization.\n",
    "\n",
    "Another strategy is to visualize the weights that were learned in the first layer of the network. In most neural networks trained on visual data, the first layer weights typically show some visible structure when visualized."
   ]
  },
  {
   "cell_type": "code",
   "execution_count": 56,
   "metadata": {
    "collapsed": false
   },
   "outputs": [
    {
     "data": {
      "image/png": "[encoded data removed]",
      "text/plain": [
       "<matplotlib.figure.Figure at 0x1255e2518>"
      ]
     },
     "metadata": {},
     "output_type": "display_data"
    }
   ],
   "source": [
    "# Plot the loss function and train / validation accuracies\n",
    "plt.subplot(2, 1, 1)\n",
    "plt.plot(stats['loss_history'])\n",
    "plt.title('Loss history')\n",
    "plt.xlabel('Iteration')\n",
    "plt.ylabel('Loss')\n",
    "\n",
    "plt.subplot(2, 1, 2)\n",
    "plt.plot(stats['train_acc_history'], label='train')\n",
    "plt.plot(stats['val_acc_history'], label='val')\n",
    "plt.title('Classification accuracy history')\n",
    "plt.xlabel('Epoch')\n",
    "plt.ylabel('Clasification accuracy')\n",
    "plt.legend()\n",
    "plt.show()"
   ]
  },
  {
   "cell_type": "code",
   "execution_count": 57,
   "metadata": {
    "collapsed": false
   },
   "outputs": [
    {
     "data": {
      "image/png": "[encoded data removed]",
      "text/plain": [
       "<matplotlib.figure.Figure at 0x12587ce10>"
      ]
     },
     "metadata": {},
     "output_type": "display_data"
    }
   ],
   "source": [
    "from cs231nHD.vis_utils import visualize_grid\n",
    "\n",
    "# Visualize the weights of the network\n",
    "\n",
    "def show_net_weights(net):\n",
    "    W1 = net.params['W1']\n",
    "    W1 = W1.reshape(28, 28, 1, -1).transpose(3, 0, 1, 2)\n",
    "    img = visualize_grid(W1, padding=1).astype('uint8')\n",
    "    plt.imshow(img[:,:,0])\n",
    "    plt.gca().axis('off')\n",
    "    plt.show()\n",
    "\n",
    "show_net_weights(net)"
   ]
  },
  {
   "cell_type": "markdown",
   "metadata": {},
   "source": [
    "# Start here:  Tune your hyperparameters (12 points)\n",
    "\n",
    "**What's wrong?**. Looking at the visualizations above, we see that the loss only decreases at the beginning and then doesn't improve any more, which seems to suggest that the learning rate may be too low, or that the regularization is too high. Moreover, the training accurracy does not reach very high values, suggesting that the model we used has low capacity, and that we should increase its size. On the other hand, with a very large model we would expect to see more overfitting, which would manifest itself as a very large gap between the training and validation accuracy.\n",
    "\n",
    "**Tuning**. Tuning the hyperparameters and developing intuition for how they affect the final performance is a large part of using Neural Networks, so we want you to get a lot of practice. Below, you should experiment with different values of the various hyperparameters, including hidden layer size, learning rate, numer of training epochs, and regularization strength. You might also consider tuning the learning rate decay, but you should be able to get good performance using the default value.\n",
    "\n",
    "**Approximate results**. You should be able to achieve a classification accuracy of greater than 90% on the validation set. Our best 2-layer network gets over 97% on the validation set.\n",
    "\n",
    "**Experiment**: Your goal in this exercise is to get as good of a result on MNIST as you can, with a fully-connected Neural Network. For every 1% above 94% on the test set we will award you with one extra bonus point. Feel free implement your own techniques (e.g. implementing the ADAM solver, changing the weight initialization, adding dropout, etc.). Depending on what measures you want to take, it may be that you need to change code outside the TODO-blocks from the last exercises in `neural_net.py`.\n",
    "\n",
    "**Links**:\n",
    "\n",
    "* ADAM paper: [arxiv.org/abs/1412.6980](arxiv.org/abs/1412.6980)\n",
    "* Weight initialization: [Delving Deep into Rectifiers: Surpassing Human-Level Performance on ImageNet Classification](https://arxiv.org/pdf/1502.01852v1.pdf)\n",
    "\n",
    "# Document your findings\n",
    "\n",
    "In addition to putting the best configuration between the commented blocks below, please list the changes (new parameter values, etc.) you made to the default network which was the result of the last exercise. For each change you note, state the validation and test accurracy. E.g.:\n",
    "\n",
    "* default network (`hidden_layers=10, num_iters=1000, learning_rate=0.05, reg=0.1`): validation acc: 0.76, test acc: 0.75\n",
    "* best choice of parameters found by ??? (`hidden_layers=???, num_iters=???, learning_rate=???, reg=???`): validation acc: ???, test acc: ???\n",
    "* implemented ADAM solver (`hidden_layers=???, num_iters=???, learning_rate=???, reg=???`): validation acc: ???, test acc: ???\n"
   ]
  },
  {
   "cell_type": "code",
   "execution_count": null,
   "metadata": {
    "collapsed": false
   },
   "outputs": [],
   "source": [
    "best_net = None # store the best model into this \n",
    "\n",
    "#################################################################################\n",
    "# TODO: Tune hyperparameters using the validation set. Store your best trained  #\n",
    "# model in best_net.                                                            #\n",
    "#                                                                               #\n",
    "# To help debug your network, it may help to use visualizations similar to the  #\n",
    "# ones we used above; these visualizations will have significant qualitative    #\n",
    "# differences from the ones we saw above for the poorly tuned network.          #\n",
    "#                                                                               #\n",
    "# Tweaking hyperparameters by hand can be fun, but you might find it useful to  #\n",
    "# write code to sweep through possible combinations of hyperparameters          #\n",
    "# automatically like we did on the previous exercises.                          #\n",
    "#################################################################################\n",
    "                \n",
    "#################################################################################\n",
    "#                               END OF YOUR CODE                                #\n",
    "#################################################################################"
   ]
  },
  {
   "cell_type": "code",
   "execution_count": null,
   "metadata": {
    "collapsed": false
   },
   "outputs": [],
   "source": [
    "# visualize the weights of the best network\n",
    "show_net_weights(best_net)"
   ]
  },
  {
   "cell_type": "markdown",
   "metadata": {},
   "source": [
    "# Run on the test set\n",
    "When you are done experimenting, you should evaluate your final trained network on the test set; you should get above 90%.\n",
    "\n",
    "**We will give you one extra bonus point for every 1% of accuracy above 94%.**"
   ]
  },
  {
   "cell_type": "code",
   "execution_count": null,
   "metadata": {
    "collapsed": false
   },
   "outputs": [],
   "source": [
    "test_acc = (best_net.predict(X_test) == y_test).mean()\n",
    "print('Test accuracy: ', test_acc)"
   ]
  },
  {
   "cell_type": "code",
   "execution_count": null,
   "metadata": {
    "collapsed": true
   },
   "outputs": [],
   "source": []
  }
 ],
 "metadata": {
  "kernelspec": {
   "display_name": "Python 3",
   "language": "python",
   "name": "python3"
  },
  "language_info": {
   "codemirror_mode": {
    "name": "ipython",
    "version": 3
   },
   "file_extension": ".py",
   "mimetype": "text/x-python",
   "name": "python",
   "nbconvert_exporter": "python",
   "pygments_lexer": "ipython3",
   "version": "3.5.1"
  }
 },
 "nbformat": 4,
 "nbformat_minor": 0
}
